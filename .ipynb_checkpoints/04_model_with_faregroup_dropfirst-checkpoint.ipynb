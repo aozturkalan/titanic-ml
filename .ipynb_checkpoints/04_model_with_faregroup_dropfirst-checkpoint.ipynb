{
 "cells": [
  {
   "cell_type": "code",
   "execution_count": 1,
   "id": "7b934242-4700-46fe-8ef6-34d5a34ce0a7",
   "metadata": {},
   "outputs": [
    {
     "ename": "NameError",
     "evalue": "name 'df' is not defined",
     "output_type": "error",
     "traceback": [
      "\u001b[31m---------------------------------------------------------------------------\u001b[39m",
      "\u001b[31mNameError\u001b[39m                                 Traceback (most recent call last)",
      "\u001b[36mCell\u001b[39m\u001b[36m \u001b[39m\u001b[32mIn[1]\u001b[39m\u001b[32m, line 12\u001b[39m\n\u001b[32m      9\u001b[39m \u001b[38;5;28;01mfrom\u001b[39;00m\u001b[38;5;250m \u001b[39m\u001b[34;01msklearn\u001b[39;00m\u001b[34;01m.\u001b[39;00m\u001b[34;01mmetrics\u001b[39;00m\u001b[38;5;250m \u001b[39m\u001b[38;5;28;01mimport\u001b[39;00m accuracy_score\n\u001b[32m     11\u001b[39m \u001b[38;5;66;03m# (1) Mevcut veriyi kopyala (ön işlenmiş df varsayılıyor)\u001b[39;00m\n\u001b[32m---> \u001b[39m\u001b[32m12\u001b[39m df1 = \u001b[43mdf\u001b[49m.copy()\n\u001b[32m     14\u001b[39m \u001b[38;5;66;03m# (2) FareGroup encoding (drop_first=True)\u001b[39;00m\n\u001b[32m     15\u001b[39m df1 = pd.get_dummies(df1, columns=[\u001b[33m'\u001b[39m\u001b[33mFareGroup\u001b[39m\u001b[33m'\u001b[39m], drop_first=\u001b[38;5;28;01mTrue\u001b[39;00m)\n",
      "\u001b[31mNameError\u001b[39m: name 'df' is not defined"
     ]
    }
   ],
   "source": [
    "# 04_faregroup_model.ipynb\n",
    "\n",
    "# Bu dosyada FareGroup (3 kategorili) ile oluşturulan modelin\n",
    "# drop_first=True senaryosu üzerinden eğitimi ve değerlendirmesi yapılacaktır.\n",
    "\n",
    "import pandas as pd\n",
    "from sklearn.model_selection import train_test_split\n",
    "from sklearn.linear_model import LogisticRegression\n",
    "from sklearn.metrics import accuracy_score\n",
    "\n",
    "# (1) Mevcut veriyi kopyala (ön işlenmiş df varsayılıyor)\n",
    "df1 = df.copy()\n",
    "\n",
    "# (2) FareGroup encoding (drop_first=True)\n",
    "df1 = pd.get_dummies(df1, columns=['FareGroup'], drop_first=True)\n",
    "\n",
    "# (3) Özellik ve hedef ayrımı\n",
    "X1 = df1.drop(['Survived', 'Name', 'Ticket', 'PassengerId', 'Fare'], axis=1)\n",
    "y1 = df1['Survived']\n",
    "\n",
    "# (4) Train-test bölmesi\n",
    "X1_train, X1_test, y1_train, y1_test = train_test_split(X1, y1, test_size=0.2, random_state=42)\n",
    "\n",
    "# (5) Model eğitimi\n",
    "model1 = LogisticRegression(max_iter=1000)\n",
    "model1.fit(X1_train, y1_train)\n",
    "\n",
    "# (6) Tahmin ve doğruluk\n",
    "y1_pred = model1.predict(X1_test)\n",
    "accuracy1 = accuracy_score(y1_test, y1_pred)\n",
    "print(f\"drop_first=True doğruluk: {accuracy1 * 100:.2f}%\")\n",
    "\n",
    "# (7) Katsayıları yazdır\n",
    "print(\"\\nModel Katsayıları:\")\n",
    "for name, coef in zip(X1.columns, model1.coef_[0]):\n",
    "    print(f\"{name}: {coef:.4f}\")\n"
   ]
  },
  {
   "cell_type": "code",
   "execution_count": null,
   "id": "08be3401-83f4-4e38-981e-fcc5b6e13283",
   "metadata": {},
   "outputs": [],
   "source": []
  }
 ],
 "metadata": {
  "kernelspec": {
   "display_name": "Python 3 (ipykernel)",
   "language": "python",
   "name": "python3"
  },
  "language_info": {
   "codemirror_mode": {
    "name": "ipython",
    "version": 3
   },
   "file_extension": ".py",
   "mimetype": "text/x-python",
   "name": "python",
   "nbconvert_exporter": "python",
   "pygments_lexer": "ipython3",
   "version": "3.13.3"
  }
 },
 "nbformat": 4,
 "nbformat_minor": 5
}
